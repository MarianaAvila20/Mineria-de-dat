{
 "cells": [
  {
   "cell_type": "code",
   "execution_count": null,
   "metadata": {},
   "outputs": [],
   "source": [
    "#Ejercicio 1\n",
    "mat = str(input(\"Introduzca su matricula: \" ))\n",
    "nom = str(input(\"Introduzca su nombre completo: \"))\n",
    "alumno = mat + ', ' + nom\n",
    "print (\"\\n\", alumno)\n"
   ]
  },
  {
   "cell_type": "code",
   "execution_count": 7,
   "metadata": {},
   "outputs": [
    {
     "name": "stdout",
     "output_type": "stream",
     "text": [
      "Introduzca el número de la operacion que desea realizar: \n",
      "1. Suma\n",
      "2. Resta\n",
      "3. Multiplicación\n",
      "4. División\n",
      "1\n",
      "Introduzca el primer número: 2\n",
      "Introduzca el segundo número: 2\n",
      "El resultado  es:  4.0\n"
     ]
    }
   ],
   "source": [
    "#Ejercicio 2\n",
    "n=int(input(\"Introduzca el número de la operacion que desea realizar: \\n1. Suma\\n2. Resta\\n3. Multiplicación\\n4. División\\n\"))\n",
    "n1=float(input(\"Introduzca el primer número: \"))\n",
    "n2=float(input(\"Introduzca el segundo número: \"))\n",
    "if n==1:\n",
    "    r=n1+n2\n",
    "elif n==2:\n",
    "    r=n1-n2\n",
    "elif n==3:\n",
    "    r=n1*n2\n",
    "elif n==4:\n",
    "    r=n1/n2\n",
    "else:\n",
    "     print(\"Operación incorrecta\")\n",
    "print(\"El resultado  es: \",r)\n",
    "\n"
   ]
  },
  {
   "cell_type": "code",
   "execution_count": null,
   "metadata": {},
   "outputs": [],
   "source": []
  },
  {
   "cell_type": "code",
   "execution_count": 5,
   "metadata": {},
   "outputs": [
    {
     "name": "stdout",
     "output_type": "stream",
     "text": [
      "Los primeros 10 multiplos de 3 son:\n",
      "3\n",
      "6\n",
      "9\n",
      "12\n",
      "15\n",
      "18\n",
      "21\n",
      "24\n",
      "27\n",
      "30\n",
      "La suma es: 165\n"
     ]
    }
   ],
   "source": [
    "#Ejercicio 3\n",
    "sum=0\n",
    "print(\"Los primeros 10 multiplos de 3 son:\")\n",
    "for i in range(1,31):\n",
    "    if i%3==0:\n",
    "        sum+=i\n",
    "        print(i)\n",
    "    i+=1\n",
    "print(\"La suma es:\",sum)\n",
    "\n",
    "\n",
    "\n"
   ]
  },
  {
   "cell_type": "code",
   "execution_count": 8,
   "metadata": {},
   "outputs": [
    {
     "name": "stdout",
     "output_type": "stream",
     "text": [
      "Introduzca un número entero : 5\n",
      "5 Numero impar\n"
     ]
    }
   ],
   "source": [
    "#Ejercicio 4\n",
    "num=int(input(\"Introduzca un número entero : \"))\n",
    "if num%2==0:\n",
    "    print(num,\" Número par\")\n",
    "else:\n",
    "    print(num, \"Numero impar\")\n",
    "for i in range (2, num):\n",
    "    if num%i==0:\n",
    "        print(num, \"no es primo\")\n",
    "    break\n",
    "else:\n",
    "    print(num, \"número primo\")"
   ]
  },
  {
   "cell_type": "code",
   "execution_count": null,
   "metadata": {},
   "outputs": [],
   "source": []
  },
  {
   "cell_type": "code",
   "execution_count": 13,
   "metadata": {},
   "outputs": [
    {
     "name": "stdout",
     "output_type": "stream",
     "text": [
      "Ingresa el primer número: 3\n",
      "Ingresa el segundo número: 2\n"
     ]
    },
    {
     "ename": "TypeError",
     "evalue": "calcu() takes no arguments",
     "output_type": "error",
     "traceback": [
      "\u001b[1;31m---------------------------------------------------------------------------\u001b[0m",
      "\u001b[1;31mTypeError\u001b[0m                                 Traceback (most recent call last)",
      "\u001b[1;32m<ipython-input-13-4551d0f87807>\u001b[0m in \u001b[0;36m<module>\u001b[1;34m\u001b[0m\n\u001b[0;32m     13\u001b[0m \u001b[0ma\u001b[0m\u001b[1;33m=\u001b[0m\u001b[0mfloat\u001b[0m\u001b[1;33m(\u001b[0m\u001b[0minput\u001b[0m\u001b[1;33m(\u001b[0m\u001b[1;34m\"Ingresa el primer número: \"\u001b[0m\u001b[1;33m)\u001b[0m\u001b[1;33m)\u001b[0m\u001b[1;33m\u001b[0m\u001b[1;33m\u001b[0m\u001b[0m\n\u001b[0;32m     14\u001b[0m \u001b[0mb\u001b[0m\u001b[1;33m=\u001b[0m\u001b[0mfloat\u001b[0m\u001b[1;33m(\u001b[0m\u001b[0minput\u001b[0m\u001b[1;33m(\u001b[0m\u001b[1;34m\"Ingresa el segundo número: \"\u001b[0m\u001b[1;33m)\u001b[0m\u001b[1;33m)\u001b[0m\u001b[1;33m\u001b[0m\u001b[1;33m\u001b[0m\u001b[0m\n\u001b[1;32m---> 15\u001b[1;33m \u001b[0mobj\u001b[0m\u001b[1;33m=\u001b[0m\u001b[0mcalcu\u001b[0m\u001b[1;33m(\u001b[0m\u001b[0ma\u001b[0m\u001b[1;33m,\u001b[0m\u001b[0mb\u001b[0m\u001b[1;33m)\u001b[0m\u001b[1;33m\u001b[0m\u001b[1;33m\u001b[0m\u001b[0m\n\u001b[0m\u001b[0;32m     16\u001b[0m \u001b[0mop\u001b[0m\u001b[1;33m=\u001b[0m\u001b[1;36m1\u001b[0m\u001b[1;33m\u001b[0m\u001b[1;33m\u001b[0m\u001b[0m\n\u001b[0;32m     17\u001b[0m \u001b[1;32mwhile\u001b[0m \u001b[0mop\u001b[0m\u001b[1;33m!=\u001b[0m\u001b[1;36m0\u001b[0m\u001b[1;33m:\u001b[0m\u001b[1;33m\u001b[0m\u001b[1;33m\u001b[0m\u001b[0m\n",
      "\u001b[1;31mTypeError\u001b[0m: calcu() takes no arguments"
     ]
    }
   ],
   "source": [
    "class calcu():\n",
    "    def _init_(self,a,b):\n",
    "        self.a=a\n",
    "        self.b=b\n",
    "    def suma(self):\n",
    "        return self.a+self.b\n",
    "    def mult(self):\n",
    "        return self.a*self.b\n",
    "    def div(self):\n",
    "        return self.a/self.b\n",
    "    def resta(self):\n",
    "        return self.a-self.b\n",
    "a=float(input(\"Ingresa el primer número: \"))\n",
    "b=float(input(\"Ingresa el segundo número: \"))\n",
    "obj=calcu(a,b)\n",
    "op=1\n",
    "while op!=0:\n",
    "    print(\"1. Sumar\")\n",
    "    print(\"2. Restar\")\n",
    "    print(\"3. Multiplicar\")\n",
    "    print(\"4. Dividir\")\n",
    "    op=int(input(\"Escoja el número de la operación que desea: \"))\n",
    "    if op==1:\n",
    "        print(\"Resultado: \",obj.suma())\n",
    "    elif op==2:\n",
    "        print(\"Resultado: \",obj.resta())\n",
    "    elif op==3:\n",
    "        print(\"Resultado: \",obj.mult())\n",
    "    elif op==4:\n",
    "        print(\"Resultado: \",obj.div())\n",
    "    else:\n",
    "        print(\"Operación incorrecta\")\n",
    "    break"
   ]
  },
  {
   "cell_type": "code",
   "execution_count": 15,
   "metadata": {},
   "outputs": [
    {
     "name": "stdout",
     "output_type": "stream",
     "text": [
      "1.19 es tipo:  <class 'float'>\n",
      "5 es tipo:  <class 'int'>\n",
      "False es tipo:  <class 'bool'>\n",
      "(7+3j) es tipo:  <class 'complex'> \n",
      "\n",
      "El primer valor de la tupla es: 4 y el último es: 6 \n",
      "\n",
      "(4, 1, 6, 'fcfm', 'fcq', 'fic')\n"
     ]
    },
    {
     "data": {
      "text/plain": [
       "False"
      ]
     },
     "execution_count": 15,
     "metadata": {},
     "output_type": "execute_result"
    }
   ],
   "source": [
    "#Tuplas\n",
    "#Para variable flotante\n",
    "varflo = float (1.19)\n",
    "print(varflo, \"es tipo: \",type(varflo))\n",
    "varint = int(5)\n",
    "print(varint, \"es tipo: \", type(varint))\n",
    "varbol = bool (0)\n",
    "print(varbol, \"es tipo: \", type(varbol))\n",
    "varcom = complex (7,3) #https://www.geeksforgeeks.org/complex-numbers-in-python-set-1-introduction/ \n",
    "print(varcom, \"es tipo: \",type(varcom),\"\\n\")\n",
    "\n",
    "#tupla con valores enteros \n",
    "ejtupla = (4,1,6)\n",
    "print(\"El primer valor de la tupla es:\",ejtupla[0], \"y el último es:\",ejtupla[2],\"\\n\")\n",
    "\n",
    "#añadir 3 valores de string a la tupla\n",
    "aux = list(ejtupla)\n",
    "aux.append(\"col\")\n",
    "aux.append(\"estat\")\n",
    "aux.append(\"pes\")\n",
    "ejtupla = tuple (aux)\n",
    "print(ejtupla)\n",
    "\n",
    "#verificar si una variable existe dentro de la tupla\n",
    "lisvar = []\n",
    "lisvar.extend((varflo,varint,varbol,varcom)) \n",
    "any(t in ejtupla for t in lisvar)"
   ]
  },
  {
   "cell_type": "code",
   "execution_count": 16,
   "metadata": {},
   "outputs": [
    {
     "name": "stdout",
     "output_type": "stream",
     "text": [
      "lista:\n",
      " [8, 75, 80, 1, 44, 90, 29, 66, 47, 89, 46, 25, 3, 80, 81, 62, 86, 55, 72, 67, 33, 25, 18, 77, 4, 19, 6, 14, 53, 23, 86, 67, 70, 50, 50, 76, 43, 36, 94, 22] \n",
      "\n"
     ]
    },
    {
     "ename": "UnboundLocalError",
     "evalue": "local variable 'aux' referenced before assignment",
     "output_type": "error",
     "traceback": [
      "\u001b[1;31m---------------------------------------------------------------------------\u001b[0m",
      "\u001b[1;31mUnboundLocalError\u001b[0m                         Traceback (most recent call last)",
      "\u001b[1;32m<ipython-input-16-1adabc00550c>\u001b[0m in \u001b[0;36m<module>\u001b[1;34m\u001b[0m\n\u001b[0;32m     26\u001b[0m     \u001b[0mprint\u001b[0m\u001b[1;33m(\u001b[0m\u001b[1;34m\"lista par:\\n\"\u001b[0m\u001b[1;33m,\u001b[0m\u001b[0mlipar\u001b[0m\u001b[1;33m,\u001b[0m \u001b[1;34m\"\\n\"\u001b[0m\u001b[1;33m)\u001b[0m\u001b[1;33m\u001b[0m\u001b[1;33m\u001b[0m\u001b[0m\n\u001b[0;32m     27\u001b[0m     \u001b[0mprint\u001b[0m\u001b[1;33m(\u001b[0m\u001b[1;34m\"lista impar:\\n\"\u001b[0m\u001b[1;33m,\u001b[0m\u001b[0mlimpar\u001b[0m\u001b[1;33m,\u001b[0m \u001b[1;34m\"\\n\"\u001b[0m\u001b[1;33m)\u001b[0m\u001b[1;33m\u001b[0m\u001b[1;33m\u001b[0m\u001b[0m\n\u001b[1;32m---> 28\u001b[1;33m \u001b[0mparimpar\u001b[0m\u001b[1;33m(\u001b[0m\u001b[0mlisrand\u001b[0m\u001b[1;33m)\u001b[0m\u001b[1;33m\u001b[0m\u001b[1;33m\u001b[0m\u001b[0m\n\u001b[0m\u001b[0;32m     29\u001b[0m \u001b[1;33m\u001b[0m\u001b[0m\n\u001b[0;32m     30\u001b[0m \u001b[1;33m\u001b[0m\u001b[0m\n",
      "\u001b[1;32m<ipython-input-16-1adabc00550c>\u001b[0m in \u001b[0;36mparimpar\u001b[1;34m(lisrand)\u001b[0m\n\u001b[0;32m     17\u001b[0m     \u001b[1;32mwhile\u001b[0m \u001b[0mi\u001b[0m\u001b[1;33m<\u001b[0m\u001b[1;36m40\u001b[0m\u001b[1;33m:\u001b[0m\u001b[1;33m\u001b[0m\u001b[1;33m\u001b[0m\u001b[0m\n\u001b[0;32m     18\u001b[0m         \u001b[1;32mif\u001b[0m\u001b[1;33m(\u001b[0m\u001b[1;33m(\u001b[0m\u001b[0mlisrand\u001b[0m\u001b[1;33m[\u001b[0m\u001b[0mi\u001b[0m\u001b[1;33m]\u001b[0m\u001b[1;33m%\u001b[0m\u001b[1;36m2\u001b[0m\u001b[1;33m)\u001b[0m \u001b[1;33m==\u001b[0m \u001b[1;36m0\u001b[0m\u001b[1;33m)\u001b[0m\u001b[1;33m:\u001b[0m\u001b[1;33m\u001b[0m\u001b[1;33m\u001b[0m\u001b[0m\n\u001b[1;32m---> 19\u001b[1;33m             \u001b[0maux\u001b[0m \u001b[1;33m==\u001b[0m \u001b[0mlisrand\u001b[0m\u001b[1;33m[\u001b[0m\u001b[0mi\u001b[0m\u001b[1;33m]\u001b[0m\u001b[1;33m\u001b[0m\u001b[1;33m\u001b[0m\u001b[0m\n\u001b[0m\u001b[0;32m     20\u001b[0m             \u001b[0mlipar\u001b[0m\u001b[1;33m.\u001b[0m\u001b[0mappend\u001b[0m\u001b[1;33m(\u001b[0m\u001b[1;33m(\u001b[0m\u001b[0maux\u001b[0m\u001b[1;33m)\u001b[0m\u001b[1;33m)\u001b[0m\u001b[1;33m\u001b[0m\u001b[1;33m\u001b[0m\u001b[0m\n\u001b[0;32m     21\u001b[0m             \u001b[0mi\u001b[0m\u001b[1;33m=\u001b[0m \u001b[0mi\u001b[0m\u001b[1;33m+\u001b[0m\u001b[1;36m1\u001b[0m\u001b[1;33m\u001b[0m\u001b[1;33m\u001b[0m\u001b[0m\n",
      "\u001b[1;31mUnboundLocalError\u001b[0m: local variable 'aux' referenced before assignment"
     ]
    }
   ],
   "source": [
    "#Listas\n",
    "\n",
    "import random as r \n",
    "lisrand = []\n",
    "i=0\n",
    "while i < 40:\n",
    "    num = r.randint (0,100)\n",
    "    lisrand.append((num))\n",
    "    i = i+1\n",
    "print(\"lista:\\n\",lisrand,\"\\n\")\n",
    "\n",
    "lispar = []\n",
    "lisimpar = []\n",
    "def parimpar(lisrand):\n",
    "    i=0\n",
    "    while i<40:\n",
    "        if((lisrand[i]%2) == 0):\n",
    "            aux == lisrand[i]\n",
    "            lispar.append((aux))\n",
    "            i= i+1\n",
    "        else:\n",
    "            aux=lisrand[i]\n",
    "            lisimpar.append((aux))\n",
    "            i = i+1\n",
    "    print(\"lista par:\\n\",lispar, \"\\n\")\n",
    "    print(\"lista impar:\\n\",lisimpar, \"\\n\")\n",
    "parimpar(lisrand)\n",
    "\n",
    "longpar= len(lispar)\n",
    "longimp= len(lisimpar)\n",
    "print(\"la longitud de la lista de los pares es: \", longpar, \"y de los imapres es: \", longimp)\n",
    "\n",
    "\n",
    "descimpar= sorted(lisimpar)\n",
    "\n",
    "print(\"\\ndescendente: \\n\", ascpar, \"\\nascendente: \\n\", descimpar)\n",
    "\n",
    "lisrandnew= lisrand\n",
    "lisrandnew.append (3)\n",
    "lisrandnew.extend (\"adios\")\n",
    "lisrandnew.reverse ()\n",
    "print(\"\\n4 funciones: \\n\", lisrandnew)"
   ]
  },
  {
   "cell_type": "code",
   "execution_count": 19,
   "metadata": {},
   "outputs": [
    {
     "name": "stdout",
     "output_type": "stream",
     "text": [
      "diccionario:\n",
      " {'Mariana': 21, 'Araza': 20, 'Ana': 20, 'Mariah': 20, 'Oscar': 21, 'Armando': 21}\n",
      "\n",
      "valores de menor a mayor:\n",
      " [20, 20, 20, 21, 21, 21] \n",
      "\n",
      "Nombres: \n",
      "Mariana\n",
      "Araza\n",
      "Ana\n",
      "Mariah\n",
      "Oscar\n",
      "Armando\n",
      "\n",
      "nuevo diccionario:\n",
      " {'Mariana': 21, 'Araza': 20, 'Ana': 20, 'Mariah': 20, 'Oscar': 21, 'Armando': 21, 'Lesllie': '24', 'Diana': '22'}\n"
     ]
    }
   ],
   "source": [
    "#Diccionarios\n",
    "\n",
    "dic1= {'Mariana':21 , 'Araza':20, 'Ana':20, 'Mariah':20, 'Oscar':21, 'Armando':21}\n",
    "print(\"diccionario:\\n\",dic1)\n",
    "\n",
    "# lista con los valores de la edad y reacomodar la lista de menor a mayor valor\n",
    "lisdicc = dic1.values()\n",
    "lisdicc = sorted(lisdicc)\n",
    "print(\"\\nvalores de menor a mayor:\\n\", lisdicc, \"\\n\")\n",
    "\n",
    "#imprimir solo los nombres\n",
    "i= 1\n",
    "print(\"Nombres: \")\n",
    "for i in dic1:\n",
    "    print(i)\n",
    "    \n",
    "#Añadir dos personas nuevas a tu diccionario, incluyendo edad\n",
    "dic1[\"Lesllie\"] = '24'\n",
    "dic1[\"Diana\"] = '22'\n",
    "print(\"\\nnuevo diccionario:\\n\", dic1)\n"
   ]
  },
  {
   "cell_type": "code",
   "execution_count": null,
   "metadata": {},
   "outputs": [],
   "source": [
    "#Sets\n",
    "import random as r\n",
    "set1 = set()\n",
    "i=0\n",
    "while i<100:\n",
    "    set1.add(r.randint(1,25))\n",
    "    i= i+1\n",
    "print(\"set aleatorio: \\n\", set1)\n",
    "\n",
    "longset = len(set1)\n",
    "print(\"\\n longitud:\\n\" , longset)\n",
    "\n",
    "lista5= list()\n",
    "i = 0\n",
    "while i< 10:\n",
    "    num = r.randint(1,10)\n",
    "    lista5.append(num)\n",
    "    i = i+1\n",
    "i= 0\n",
    "while i< 10:\n",
    "    comparador = lista5[i] in set1\n",
    "    print(\"\\nel numero: \",lista5[i],\",¿esta en el set inicial?:\\n\",comparador)\n",
    "    i = i+1\n"
   ]
  },
  {
   "cell_type": "code",
   "execution_count": null,
   "metadata": {},
   "outputs": [],
   "source": []
  },
  {
   "cell_type": "code",
   "execution_count": null,
   "metadata": {},
   "outputs": [],
   "source": []
  },
  {
   "cell_type": "code",
   "execution_count": null,
   "metadata": {},
   "outputs": [],
   "source": []
  }
 ],
 "metadata": {
  "kernelspec": {
   "display_name": "Python 3",
   "language": "python",
   "name": "python3"
  },
  "language_info": {
   "codemirror_mode": {
    "name": "ipython",
    "version": 3
   },
   "file_extension": ".py",
   "mimetype": "text/x-python",
   "name": "python",
   "nbconvert_exporter": "python",
   "pygments_lexer": "ipython3",
   "version": "3.8.5"
  }
 },
 "nbformat": 4,
 "nbformat_minor": 4
}
